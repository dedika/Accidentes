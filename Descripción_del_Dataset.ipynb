{
 "cells": [
  {
   "cell_type": "code",
   "execution_count": 0,
   "metadata": {
    "colab": {},
    "colab_type": "code",
    "id": "vtP2uAt3WgLz"
   },
   "outputs": [],
   "source": []
  },
  {
   "cell_type": "markdown",
   "metadata": {
    "colab_type": "text",
    "id": "Q-513W7sWmF7"
   },
   "source": [
    "## **DESCRIPCIÓN DEL DATASET**"
   ]
  },
  {
   "cell_type": "markdown",
   "metadata": {
    "colab_type": "text",
    "id": "sCMNp12fWtIs"
   },
   "source": [
    "El conujnto de datos se puede descargar a través de la duguiente página:\n",
    "https://www.datos.gov.co/Transporte/Accidentes-de-Transito-2017/7cci-nqqb"
   ]
  },
  {
   "cell_type": "markdown",
   "metadata": {
    "colab_type": "text",
    "id": "1YHUula7W98-"
   },
   "source": [
    "Las columnas que conforman el Dataset son:\n",
    "\n",
    "**1. Formato texto simple:**\n",
    "\n",
    "\n",
    "* FECHA: Fecha del accidente.\n",
    "*GRAVEDAD: Los accidentes se clasifican según su gravedad:\n",
    "      -CON HERIDOS\n",
    "      -CON MUERTOS\n",
    "      -SOLO DAÑOS\n",
    "* VIA 1: Dirección principal donde ocurrió el accidente.\n",
    "* BARRIO: Barrio donde ocurrió el accidente.\n",
    "* HORA: Hora del accidente.\n",
    "* ENTIDAD: Organización a cargo del proceso a seguir cuando ocurre un accidente.\n",
    "* nombrecomuna: Nombre de la comuna donde ocurrió el accidente.\n",
    "* Propietario de Vehículo: Dueño del vehículo involucrado en el accidente:\n",
    "      -Empresa\n",
    "      -Particular\n",
    "* DIURNIO/NOCTURNO: Momento del día en el que ocurrió el accidente.\n",
    "* HORA RESTRICCIÓN MOTO: Hora de restricción de moto involucrada:\n",
    "      -Sin restricción\n",
    "      -En restricción\n",
    "       \n",
    "**2. Formato numérico:**\n",
    "\n",
    "* PEATON: Cantidad de peatones.\n",
    "* AUTOMÓVIL: Cantidad de automóviles involucrados.\n",
    "* CAMPAERO: Cantidad de camperos involucrados.\n",
    "* CAMIONETA: Cantidad de camonetas involucradas.\n",
    "* MICRO: Cantidad de microbuses involucrados.\n",
    "* BUSETA:Cantidad de busetas involucradas.\n",
    "* BUS:Cantidad de buses involucrados.\n",
    "* CAMION:Cantidad de camiones involucrados.\n",
    "* VOLQUETA:Cantidad de volquetas involucradas.\n",
    "* MOTO:Cantidad de motos involucradas.\n",
    "* BICICLETA:Cantidad de bicicletas involucradas.\n",
    "* OTRO:Otro tipo de vehículo involucrado en el accidente.\n",
    "\n",
    "\n",
    "\n",
    "\n"
   ]
  }
 ],
 "metadata": {
  "colab": {
   "collapsed_sections": [],
   "name": "Descripción del Dataset.ipynb",
   "provenance": [],
   "version": "0.3.2"
  },
  "kernelspec": {
   "display_name": "Python 3",
   "language": "python",
   "name": "python3"
  },
  "language_info": {
   "codemirror_mode": {
    "name": "ipython",
    "version": 3
   },
   "file_extension": ".py",
   "mimetype": "text/x-python",
   "name": "python",
   "nbconvert_exporter": "python",
   "pygments_lexer": "ipython3",
   "version": "3.7.1"
  }
 },
 "nbformat": 4,
 "nbformat_minor": 1
}
